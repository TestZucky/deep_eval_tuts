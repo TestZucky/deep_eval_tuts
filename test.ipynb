{
 "cells": [
  {
   "cell_type": "code",
   "execution_count": null,
   "metadata": {},
   "outputs": [],
   "source": [
    "import os\n",
    "from dotenv import load_dotenv\n",
    "load_dotenv()"
   ]
  },
  {
   "cell_type": "markdown",
   "metadata": {},
   "source": [
    "### DEEPEVAL"
   ]
  },
  {
   "cell_type": "code",
   "execution_count": null,
   "metadata": {},
   "outputs": [],
   "source": [
    "from deepeval import evaluate\n",
    "from deepeval.metrics import AnswerRelevancyMetric, ContextualPrecisionMetric, ContextualRelevancyMetric, HallucinationMetric\n",
    "from deepeval.test_case import LLMTestCase\n",
    "\n",
    "arm = AnswerRelevancyMetric(threshold=0.7)\n",
    "cr = ContextualRelevancyMetric(threshold=0.7)\n",
    "cp = ContextualPrecisionMetric(threshold=0.7)\n",
    "hm = HallucinationMetric(threshold=0.7)\n",
    "\n",
    "test_case = LLMTestCase(\n",
    "    input = \"What if these shoes doesn't fit me?\",\n",
    "    actual_output=\"We dont sell shoes currently\",\n",
    "    expected_output=\"We offer a 30-day full refund at no extra costs.\",\n",
    "    retrieval_context= [\"All the customers are eligilble fro a 30-day full refund at no costs.\"],\n",
    "    retrieval_context= [\"All the customers are eligilble fro a 30-day full refund at no costs.\"]\n",
    ")\n",
    "\n",
    "evaluate([test_case], [arm, cr, cp, hm])"
   ]
  }
 ],
 "metadata": {
  "kernelspec": {
   "display_name": "env1",
   "language": "python",
   "name": "python3"
  },
  "language_info": {
   "codemirror_mode": {
    "name": "ipython",
    "version": 3
   },
   "file_extension": ".py",
   "mimetype": "text/x-python",
   "name": "python",
   "nbconvert_exporter": "python",
   "pygments_lexer": "ipython3",
   "version": "3.10.9"
  }
 },
 "nbformat": 4,
 "nbformat_minor": 2
}
